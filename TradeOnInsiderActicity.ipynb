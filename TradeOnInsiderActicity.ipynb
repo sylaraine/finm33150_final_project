{
 "cells": [
  {
   "cell_type": "markdown",
   "id": "4703803e",
   "metadata": {},
   "source": [
    "# XGBoost for Prediction using Senator Trading Data\n",
    "* Laurent Lanteigne\n",
    "* Max Frankel\n",
    "* Yan Sun\n"
   ]
  },
  {
   "cell_type": "markdown",
   "id": "5c435572",
   "metadata": {},
   "source": [
    "### Introduction\n",
    "Legal insider trading is a useful source of information for forecasting stock prices. XGBoost algorithm can be used to help determine relationships between insider information and future prices, and thus help us to trade on insider activity.  "
   ]
  },
  {
   "cell_type": "markdown",
   "id": "d321a931",
   "metadata": {},
   "source": [
    "#### Legal Insider Trading\n",
    "Insiders have different kinds of information advantages. First, they know in advance which major events will affect stock prices. This type of advantage disappears after the events are announced, usually within a short time. Second, insiders can better assess the company’s earnings prospects and growth potential than outsiders. This type of information advantage is usually long term and does not rely on specific events. Third, insiders can better assess the intrinsic value of a company than outsiders and can thus identify and exploit opportunities when the stock market overvalues or undervalues the company. Fourth, insiders have a better sense of industry and macro-economy trends and thus tend to predict future macroeconomic directions more accurately. The first three types of advantages can increase insiders’ ability to predict firm-level price movement more precisely. They seem to always be able to cash in when the price is high and purchase when the price is low. The fourth advantage increases aggregate insiders’ ability to time the market. According to STOCK ACT, US senators are required to disclose their stock trade publicly, and we can obtain the stock trade feed including the file and transaction dates, stock issuers, lower and higher bound for trade size, and transaction side from the Securities and Exchange Commision(SEC) website. "
   ]
  },
  {
   "cell_type": "markdown",
   "id": "aa9c8b17",
   "metadata": {},
   "source": [
    "#### XGBoost\n",
    "XGBoost is a decision-tree-based ensemble Machine Learning algorithm that uses a gradient boosting framework. When it comes to small-to-medium structured/tabular data, XGBoost estalishes itself among all other machine learning algorithms in both speed and performance. "
   ]
  },
  {
   "cell_type": "markdown",
   "id": "7acbc03c",
   "metadata": {},
   "source": [
    "### Model"
   ]
  },
  {
   "cell_type": "markdown",
   "id": "87fb243c",
   "metadata": {},
   "source": [
    "#### Data Cleaning and Variable Selection"
   ]
  },
  {
   "cell_type": "markdown",
   "id": "6d93e5aa",
   "metadata": {},
   "source": [
    "#### Model Optimization"
   ]
  },
  {
   "cell_type": "markdown",
   "id": "1468110a",
   "metadata": {},
   "source": [
    "#### Model Performance"
   ]
  },
  {
   "cell_type": "markdown",
   "id": "cd27b93e",
   "metadata": {},
   "source": [
    "### Trading Strategy Implementation"
   ]
  },
  {
   "cell_type": "markdown",
   "id": "b204aaad",
   "metadata": {},
   "source": [
    "#### Key Assumptions\n",
    "The initial capital is 1,000,000,000.  "
   ]
  },
  {
   "cell_type": "markdown",
   "id": "61f2a494",
   "metadata": {},
   "source": [
    "#### Entry and Exit Rules"
   ]
  },
  {
   "cell_type": "markdown",
   "id": "0584c937",
   "metadata": {},
   "source": [
    "##### Entry Signal\n",
    "On each filing date, the strategy enters a long/short position if there is a win signal for the senator's transaction. The position size would depend on the leverage option. "
   ]
  },
  {
   "cell_type": "markdown",
   "id": "1bf6c30d",
   "metadata": {},
   "source": [
    "###### Leverage\n",
    "When there is no leverage, the position size would simply be the mean of lower and higher bound of the trade size divided by the current market price.   \n",
    "When leverage is taken into consideration, the position size would be the sum of current outstanding position value and current cash position holdings divided by current market price."
   ]
  },
  {
   "cell_type": "markdown",
   "id": "65cfbc60",
   "metadata": {},
   "source": [
    "##### Funding\n",
    "If the current cash holdings goes negative, we would borrow money  pa interest on the debt"
   ]
  },
  {
   "cell_type": "markdown",
   "id": "1a333e48",
   "metadata": {},
   "source": [
    "##### Exit Signal\n",
    "On each trading day, the strategy would check two exit signals for outstanding positions."
   ]
  },
  {
   "cell_type": "markdown",
   "id": "334d5c90",
   "metadata": {},
   "source": [
    "###### Stop Loss\n",
    "If the simulation experiences a day such that the present position value has lost more than a proportion s of the current cash holdings and outstanding position value at position entry time), then force an exit at current prices. "
   ]
  },
  {
   "cell_type": "markdown",
   "id": "12572bc2",
   "metadata": {},
   "source": [
    "###### Force Exit\n",
    "The strategy does not intend to hold any position longer than a predetermined period $\\tau$ due to funding and liquidity issues. If any open positions has been held for $\\tau$ days, we would close the corresponding positions."
   ]
  },
  {
   "cell_type": "markdown",
   "id": "b60ab990",
   "metadata": {},
   "source": [
    "#### Transaction Costs"
   ]
  },
  {
   "cell_type": "markdown",
   "id": "ecf302a3",
   "metadata": {},
   "source": [
    "#### Short Bias"
   ]
  },
  {
   "cell_type": "markdown",
   "id": "80b09166",
   "metadata": {},
   "source": [
    "#### Miscellaneous"
   ]
  },
  {
   "cell_type": "markdown",
   "id": "55d1ef0e",
   "metadata": {},
   "source": [
    "### Performance"
   ]
  },
  {
   "cell_type": "markdown",
   "id": "9a016835",
   "metadata": {},
   "source": [
    "#### PnL"
   ]
  },
  {
   "cell_type": "markdown",
   "id": "610f8e1d",
   "metadata": {},
   "source": [
    "#### Statistics"
   ]
  },
  {
   "cell_type": "markdown",
   "id": "8b8d7bb2",
   "metadata": {},
   "source": [
    "### Reference\n",
    "Chafen Zhu, Li Wang, Tengfei Yang,\n",
    "“Swimming Ducks Forecast the Coming of Spring”—The predictability of aggregate insider trading on future market returns in the Chinese market,\n",
    "China Journal of Accounting Research,\n",
    "Volume 7, Issue 3,\n",
    "2014,\n",
    "Pages 179-201,\n",
    "ISSN 1755-3091,\n",
    "https://doi.org/10.1016/j.cjar.2014.08.001."
   ]
  },
  {
   "cell_type": "markdown",
   "id": "6dc44071",
   "metadata": {},
   "source": [
    "Safer, A., &amp; Wilamowski, B. M. (1998). Neural networks and Mars for prediction using legal insider stock trading data (dissertation), http://www.eng.auburn.edu/~wilambm/pap/1998/ANNIE98_LegalInsider_Safer_Sprecher.pdf"
   ]
  },
  {
   "cell_type": "code",
   "execution_count": null,
   "id": "858035d4",
   "metadata": {},
   "outputs": [],
   "source": []
  }
 ],
 "metadata": {
  "kernelspec": {
   "display_name": "Python 3",
   "language": "python",
   "name": "python3"
  },
  "language_info": {
   "codemirror_mode": {
    "name": "ipython",
    "version": 3
   },
   "file_extension": ".py",
   "mimetype": "text/x-python",
   "name": "python",
   "nbconvert_exporter": "python",
   "pygments_lexer": "ipython3",
   "version": "3.7.4"
  },
  "toc": {
   "base_numbering": 1,
   "nav_menu": {},
   "number_sections": true,
   "sideBar": true,
   "skip_h1_title": true,
   "title_cell": "Table of Contents",
   "title_sidebar": "Contents",
   "toc_cell": false,
   "toc_position": {
    "height": "425px",
    "left": "10px",
    "top": "150px",
    "width": "287px"
   },
   "toc_section_display": true,
   "toc_window_display": true
  }
 },
 "nbformat": 4,
 "nbformat_minor": 5
}
